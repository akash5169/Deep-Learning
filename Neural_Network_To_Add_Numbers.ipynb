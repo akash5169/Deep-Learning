{
  "nbformat": 4,
  "nbformat_minor": 0,
  "metadata": {
    "colab": {
      "name": "Neural Network To Add Numbers.ipynb",
      "provenance": [],
      "authorship_tag": "ABX9TyOAzcmQrZLm+7Pb8jE3St00",
      "include_colab_link": true
    },
    "kernelspec": {
      "name": "python3",
      "display_name": "Python 3"
    },
    "language_info": {
      "name": "python"
    }
  },
  "cells": [
    {
      "cell_type": "markdown",
      "metadata": {
        "id": "view-in-github",
        "colab_type": "text"
      },
      "source": [
        "<a href=\"https://colab.research.google.com/github/akash5169/Deep-Learning/blob/main/Neural_Network_To_Add_Numbers.ipynb\" target=\"_parent\"><img src=\"https://colab.research.google.com/assets/colab-badge.svg\" alt=\"Open In Colab\"/></a>"
      ]
    },
    {
      "cell_type": "code",
      "source": [
        "import pandas as pd"
      ],
      "metadata": {
        "id": "kr46-a07bZDJ"
      },
      "execution_count": 1,
      "outputs": []
    },
    {
      "cell_type": "code",
      "source": [
        "import tensorflow as tf"
      ],
      "metadata": {
        "id": "Xiz6zji3bepH"
      },
      "execution_count": 2,
      "outputs": []
    },
    {
      "cell_type": "code",
      "source": [
        "import numpy as np"
      ],
      "metadata": {
        "id": "tZPhYn8DGNhu"
      },
      "execution_count": 3,
      "outputs": []
    },
    {
      "cell_type": "code",
      "source": [
        "# Step 1 : Initialize the weights\n",
        "# Step 2 : Forward propogate and find activations and the output\n",
        "# Step 3 : find the error at the end\n",
        "# Step 4 : backpropogate and find the updated weights by minizing the error with gradient descent \n",
        "# Step 5 : reapeat step 2 to 4 until convergence\n",
        "\n",
        "\n",
        "class MLP:\n",
        "  def _sigmoid(self, h):\n",
        "    return 1/(1+np.exp(-h))\n",
        "\n",
        "  def __init__(self, num_inputs=3, hidden_layers=[3,3], num_ouputs=2):\n",
        "    self.num_inputs=num_inputs\n",
        "    self.hidden_layers=hidden_layers\n",
        "    self.num_ouputs=num_ouputs\n",
        "\n",
        "    layers = [num_inputs]+ hidden_layers+[num_ouputs]\n",
        "\n",
        "    weights=[]\n",
        "\n",
        "    for i in range (len(layers)-1):\n",
        "      w=np.random.rand(layers[i],layers[i+1])\n",
        "      weights.append(w)\n",
        "    \n",
        "    self.weights=weights\n",
        "\n",
        "    derivatives=[]\n",
        "    for i in range (len(layers)-1):\n",
        "      d=np.zeros((layers[i],layers[i+1]))\n",
        "      derivatives.append(d)\n",
        "\n",
        "    self.derivatives=derivatives\n",
        "\n",
        "    activations=[]\n",
        "    for i in range (len(layers)):\n",
        "      a=np.zeros(layers[i])\n",
        "      activations.append(a)\n",
        "    self.activations=activations\n",
        "\n",
        "  def forward_propogate(self,inputs):\n",
        "    activations=inputs\n",
        "    self.activations[0]=activations\n",
        "    \n",
        "    for i,w in enumerate(self.weights):\n",
        "      net_inputs=np.dot(activations, w)\n",
        "      activations=self._sigmoid(net_inputs)\n",
        "      self.activations[i+1]=activations\n",
        "\n",
        "    return activations\n",
        "\n",
        "  def back_propogate(self,error, verbose=False):\n",
        "    for i in reversed(range(len(self.derivatives))):\n",
        "      activations=self.activations[i+1]\n",
        "\n",
        "      delta= error * self._sigmoid_derivative(activations)\n",
        "\n",
        "      delta_reshaped= delta.reshape(delta.shape[0], -1).T\n",
        "\n",
        "      current_activations= self.activations[i] # ndarray ([0.1,0.2]) --> ndarray([[0.1],[0.2]])\n",
        "\n",
        "      current_activations= current_activations.reshape(current_activations.shape[0], -1)\n",
        "\n",
        "      self.derivatives[i]=np.dot(current_activations, delta_reshaped)\n",
        "\n",
        "      error=np.dot(delta, self.weights[i].T)\n",
        "\n",
        "      if verbose:\n",
        "        print(\"Derivatives for W{}: {}\".format(i,self.derivatives[i]))\n",
        "    return error\n",
        "\n",
        " \n",
        "\n",
        "  def train(self, inputs, targets, epochs, learning_rate):\n",
        "    for i in range(epochs):\n",
        "\n",
        "      sum_error=0\n",
        "      for input,target in zip(inputs,targets):\n",
        "        #perform forward prop\n",
        "        output=self.forward_propogate(input)\n",
        "\n",
        "        #calculate erro\n",
        "        error=target-output\n",
        "\n",
        "        #backpropogate\n",
        "        self.back_propogate(error)\n",
        "\n",
        "        #apply gradiet descent\n",
        "        self.gradient_descent(learning_rate)\n",
        "\n",
        "        #report the error\n",
        "        sum_error=sum_error + self._mse(target,output)\n",
        "\n",
        "      print(\"Error:{} at epoch {}\".format(sum_error/ len(inputs), i+1))\n",
        "    \n",
        "  def gradient_descent(self, learning_rate):\n",
        "    for i  in range(len(self.weights)):\n",
        "      weights= self.weights[i]\n",
        "\n",
        "      #print(\"Original Weights {} {}\".format(i,weights))\n",
        "      derivatives=self.derivatives[i]\n",
        "      weights +=derivatives * learning_rate\n",
        "      \n",
        "      #print(\"updated Weights {} {}\".format(i,weights))\n",
        "\n",
        "  def _sigmoid_derivative(self,x):\n",
        "    return x * (1.0-x)\n",
        "\n",
        "  def _mse(self, target, output):\n",
        "    return np.average((target-output)**2 )\n",
        "\n",
        "  "
      ],
      "metadata": {
        "id": "V9hoWX-50zcB"
      },
      "execution_count": 91,
      "outputs": []
    },
    {
      "cell_type": "code",
      "source": [
        "from random import random\n",
        "if __name__==\"__main__\":\n",
        "  mlp= MLP(2, [5], 1) \n",
        " \n",
        "  #create a dataset\n",
        "  inputs=np.array([[ random() / 2 for _ in range(2)] for _ in range(1000)])\n",
        "  targets=np.array([[i[0] + i[1]] for i in inputs])\n",
        "\n",
        "  #train our mlp\n",
        "  mlp.train(inputs, targets, 50, 1)\n",
        "\n",
        "  input=np.array([.25,.15])\n",
        "  #target=np.array([.3])\n",
        "\n",
        "  output=mlp.forward_propogate(input)\n",
        "\n",
        "  print()\n",
        "  print()\n",
        "\n",
        "  print(output)\n",
        "\n"
      ],
      "metadata": {
        "colab": {
          "base_uri": "https://localhost:8080/"
        },
        "id": "rCYerDFipEHK",
        "outputId": "d78f8b65-779d-4e26-a136-f112c1413ca6"
      },
      "execution_count": 92,
      "outputs": [
        {
          "output_type": "stream",
          "name": "stdout",
          "text": [
            "Error:0.0432529361691046 at epoch 1\n",
            "Error:0.024569381994323562 at epoch 2\n",
            "Error:0.006304663566896839 at epoch 3\n",
            "Error:0.00189951371491211 at epoch 4\n",
            "Error:0.0009686899730897157 at epoch 5\n",
            "Error:0.0007338871180933378 at epoch 6\n",
            "Error:0.0006587164683213484 at epoch 7\n",
            "Error:0.0006240274324235437 at epoch 8\n",
            "Error:0.0006010612691766652 at epoch 9\n",
            "Error:0.0005825634000900576 at epoch 10\n",
            "Error:0.0005665836980274415 at epoch 11\n",
            "Error:0.0005524814998961838 at epoch 12\n",
            "Error:0.0005399412257007663 at epoch 13\n",
            "Error:0.0005287390274913205 at epoch 14\n",
            "Error:0.0005186906471508239 at epoch 15\n",
            "Error:0.0005096395156403166 at epoch 16\n",
            "Error:0.0005014524637699036 at epoch 17\n",
            "Error:0.0004940165171784907 at epoch 18\n",
            "Error:0.00048723589732161413 at epoch 19\n",
            "Error:0.0004810292912235387 at epoch 20\n",
            "Error:0.0004753274787697142 at epoch 21\n",
            "Error:0.0004700713311599394 at epoch 22\n",
            "Error:0.00046521014866631133 at epoch 23\n",
            "Error:0.0004607002896989297 at epoch 24\n",
            "Error:0.00045650404230719555 at epoch 25\n",
            "Error:0.0004525886944581685 at epoch 26\n",
            "Error:0.00044892576626994954 at epoch 27\n",
            "Error:0.00044549037398023235 at epoch 28\n",
            "Error:0.00044226070116424774 at epoch 29\n",
            "Error:0.00043921755746719246 at epoch 30\n",
            "Error:0.00043634400896511746 at epoch 31\n",
            "Error:0.00043362506735379104 at epoch 32\n",
            "Error:0.0004310474276282377 at epoch 33\n",
            "Error:0.0004285992458803842 at epoch 34\n",
            "Error:0.0004262699504111749 at epoch 35\n",
            "Error:0.00042405008060913756 at epoch 36\n",
            "Error:0.0004219311490550603 at epoch 37\n",
            "Error:0.0004199055231237016 at epoch 38\n",
            "Error:0.0004179663230087825 at epoch 39\n",
            "Error:0.0004161073336286761 at epoch 40\n",
            "Error:0.0004143229283022681 at epoch 41\n",
            "Error:0.0004126080024370607 at epoch 42\n",
            "Error:0.0004109579157604053 at epoch 43\n",
            "Error:0.00040936844186211505 at epoch 44\n",
            "Error:0.0004078357240123602 at epoch 45\n",
            "Error:0.000406356236380691 at epoch 46\n",
            "Error:0.0004049267499163647 at epoch 47\n",
            "Error:0.00040354430226207007 at epoch 48\n",
            "Error:0.00040220617116652535 at epoch 49\n",
            "Error:0.0004009098509397251 at epoch 50\n",
            "\n",
            "\n",
            "[0.39041457]\n"
          ]
        }
      ]
    },
    {
      "cell_type": "code",
      "source": [
        "b=np.array([[0.16308476 ,0.57923519 ,0.10509013 ,0.84817566, 0.89973497]\n",
        " ,[0.88206471, 0.33850809, 0.27557758, 0.66225708, 0.44814947]])\n",
        "a=np.array([[ 0.00017159,  0.00155403, -0.00070605, -0.00011337,  0.00014874],\n",
        " [ 0.00019405,  0.00175741, -0.00079846, -0.00012821,  0.00016821]])\n",
        "b=b+a*0.1\n",
        "print(b)"
      ],
      "metadata": {
        "colab": {
          "base_uri": "https://localhost:8080/"
        },
        "id": "LGLJER2PCUxE",
        "outputId": "a0eb6578-0280-4ce2-c8f6-e23da5a27548"
      },
      "execution_count": 87,
      "outputs": [
        {
          "output_type": "stream",
          "name": "stdout",
          "text": [
            "[[0.16310192 0.57939059 0.10501953 0.84816432 0.89974984]\n",
            " [0.88208411 0.33868383 0.27549773 0.66224426 0.44816629]]\n"
          ]
        }
      ]
    },
    {
      "cell_type": "code",
      "source": [
        "b=np.array([[0.16308476 ,0.57923519 ,0.10509013 ,0.84817566, 0.89973497]\n",
        " ,[0.88206471, 0.33850809, 0.27557758, 0.66225708, 0.44814947]])\n",
        "a=np.array([[ 0.00017159,  0.00155403, -0.00070605, -0.00011337,  0.00014874],\n",
        " [ 0.00019405,  0.00175741, -0.00079846, -0.00012821,  0.00016821]])\n",
        "b+=a*0.1\n",
        "print(b)"
      ],
      "metadata": {
        "colab": {
          "base_uri": "https://localhost:8080/"
        },
        "id": "zn7mk7PQohkl",
        "outputId": "5eae07df-a08f-415a-c0dc-eec28382bf4d"
      },
      "execution_count": 86,
      "outputs": [
        {
          "output_type": "stream",
          "name": "stdout",
          "text": [
            "[[0.16310192 0.57939059 0.10501953 0.84816432 0.89974984]\n",
            " [0.88208411 0.33868383 0.27549773 0.66224426 0.44816629]]\n"
          ]
        }
      ]
    }
  ]
}