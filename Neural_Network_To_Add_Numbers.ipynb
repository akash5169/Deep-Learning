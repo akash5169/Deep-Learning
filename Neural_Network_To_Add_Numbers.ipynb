{
  "nbformat": 4,
  "nbformat_minor": 0,
  "metadata": {
    "colab": {
      "name": "Neural Network To Add Numbers.ipynb",
      "provenance": [],
      "authorship_tag": "ABX9TyNEZi98CXnIAsOvqzswzPj7",
      "include_colab_link": true
    },
    "kernelspec": {
      "name": "python3",
      "display_name": "Python 3"
    },
    "language_info": {
      "name": "python"
    }
  },
  "cells": [
    {
      "cell_type": "markdown",
      "metadata": {
        "id": "view-in-github",
        "colab_type": "text"
      },
      "source": [
        "<a href=\"https://colab.research.google.com/github/akash5169/Deep-Learning/blob/main/Neural_Network_To_Add_Numbers.ipynb\" target=\"_parent\"><img src=\"https://colab.research.google.com/assets/colab-badge.svg\" alt=\"Open In Colab\"/></a>"
      ]
    },
    {
      "cell_type": "code",
      "source": [
        "import tensorflow as tf\n",
        "import numpy as np\n",
        "import pandas as pd\n",
        "from random import random"
      ],
      "metadata": {
        "id": "Xiz6zji3bepH"
      },
      "execution_count": 1,
      "outputs": []
    },
    {
      "cell_type": "code",
      "source": [
        "# Step 1 : Initialize the weights\n",
        "# Step 2 : Forward propogate and find activations and the output\n",
        "# Step 3 : find the error at the end\n",
        "# Step 4 : backpropogate and find the updated weights by minizing the error with gradient descent \n",
        "# Step 5 : reapeat step 2 to 4 until convergence\n",
        "\n",
        "\n",
        "class MLP:\n",
        "  def _sigmoid(self, h):\n",
        "    return 1/(1+np.exp(-h))\n",
        "\n",
        "  def __init__(self, num_inputs=3, hidden_layers=[3,3], num_ouputs=2):\n",
        "    self.num_inputs=num_inputs\n",
        "    self.hidden_layers=hidden_layers\n",
        "    self.num_ouputs=num_ouputs\n",
        "\n",
        "    layers = [num_inputs]+ hidden_layers+[num_ouputs]\n",
        "\n",
        "    weights=[]\n",
        "\n",
        "    for i in range (len(layers)-1):\n",
        "      w=np.random.rand(layers[i],layers[i+1])\n",
        "      weights.append(w)\n",
        "    \n",
        "    self.weights=weights\n",
        "\n",
        "    derivatives=[]\n",
        "    for i in range (len(layers)-1):\n",
        "      d=np.zeros((layers[i],layers[i+1]))\n",
        "      derivatives.append(d)\n",
        "\n",
        "    self.derivatives=derivatives\n",
        "\n",
        "    activations=[]\n",
        "    for i in range (len(layers)):\n",
        "      a=np.zeros(layers[i])\n",
        "      activations.append(a)\n",
        "    self.activations=activations\n",
        "\n",
        "  def forward_propogate(self,inputs):\n",
        "    activations=inputs\n",
        "    self.activations[0]=activations\n",
        "    \n",
        "    for i,w in enumerate(self.weights):\n",
        "      net_inputs=np.dot(activations, w)\n",
        "      activations=self._sigmoid(net_inputs)\n",
        "      self.activations[i+1]=activations\n",
        "\n",
        "    return activations\n",
        "\n",
        "  def back_propogate(self,error, verbose=False):\n",
        "    for i in reversed(range(len(self.derivatives))):\n",
        "      activations=self.activations[i+1]\n",
        "\n",
        "      delta= error * self._sigmoid_derivative(activations)\n",
        "\n",
        "      delta_reshaped= delta.reshape(delta.shape[0], -1).T\n",
        "\n",
        "      current_activations= self.activations[i] # ndarray ([0.1,0.2]) --> ndarray([[0.1],[0.2]])\n",
        "\n",
        "      current_activations= current_activations.reshape(current_activations.shape[0], -1)\n",
        "\n",
        "      self.derivatives[i]=np.dot(current_activations, delta_reshaped)\n",
        "\n",
        "      error=np.dot(delta, self.weights[i].T)\n",
        "\n",
        "      if verbose:\n",
        "        print(\"Derivatives for W{}: {}\".format(i,self.derivatives[i]))\n",
        "    return error\n",
        "\n",
        " \n",
        "\n",
        "  def train(self, inputs, targets, epochs, learning_rate):\n",
        "    for i in range(epochs):\n",
        "\n",
        "      sum_error=0\n",
        "      for input,target in zip(inputs,targets):\n",
        "        #perform forward prop\n",
        "        output=self.forward_propogate(input)\n",
        "\n",
        "        #calculate erro\n",
        "        error=target-output\n",
        "\n",
        "        #backpropogate\n",
        "        self.back_propogate(error)\n",
        "\n",
        "        #apply gradiet descent\n",
        "        self.gradient_descent(learning_rate)\n",
        "\n",
        "        #report the error\n",
        "        sum_error=sum_error + self._mse(target,output)\n",
        "\n",
        "      print(\"Error:{} at epoch {}\".format(sum_error/ len(inputs), i+1))\n",
        "    \n",
        "  def gradient_descent(self, learning_rate):\n",
        "    for i  in range(len(self.weights)):\n",
        "      weights= self.weights[i]\n",
        "\n",
        "      #print(\"Original Weights {} {}\".format(i,weights))\n",
        "      derivatives=self.derivatives[i]\n",
        "      weights +=derivatives * learning_rate\n",
        "      \n",
        "      #print(\"updated Weights {} {}\".format(i,weights))\n",
        "\n",
        "  def _sigmoid_derivative(self,x):\n",
        "    return x * (1.0-x)\n",
        "\n",
        "  def _mse(self, target, output):\n",
        "    return np.average((target-output)**2 )\n",
        "\n",
        "  "
      ],
      "metadata": {
        "id": "V9hoWX-50zcB"
      },
      "execution_count": 2,
      "outputs": []
    },
    {
      "cell_type": "code",
      "source": [
        "\n",
        "if __name__==\"__main__\":\n",
        "  mlp= MLP(2, [5], 1) \n",
        " \n",
        "  #create a dataset\n",
        "  inputs=np.array([[ random() / 2 for _ in range(2)] for _ in range(1000)])\n",
        "  targets=np.array([[i[0] + i[1]] for i in inputs])\n",
        "\n",
        "  #train our mlp\n",
        "  mlp.train(inputs, targets, 50, 1)\n",
        "\n",
        "  input=np.array([.25,.15])\n",
        "  #target=np.array([.3])\n",
        "\n",
        "  output=mlp.forward_propogate(input)\n",
        "\n",
        "  print()\n",
        "  print()\n",
        "\n",
        "  print(output)\n",
        "\n"
      ],
      "metadata": {
        "colab": {
          "base_uri": "https://localhost:8080/"
        },
        "id": "rCYerDFipEHK",
        "outputId": "7f31e31f-972b-4a07-9586-c66df3377874"
      },
      "execution_count": 3,
      "outputs": [
        {
          "output_type": "stream",
          "name": "stdout",
          "text": [
            "Error:0.03835859452619705 at epoch 1\n",
            "Error:0.024524824575266613 at epoch 2\n",
            "Error:0.0054470757135353836 at epoch 3\n",
            "Error:0.0010114320639049443 at epoch 4\n",
            "Error:0.00045552333535515505 at epoch 5\n",
            "Error:0.00037641118947055063 at epoch 6\n",
            "Error:0.00036236280746255344 at epoch 7\n",
            "Error:0.00035798759419731455 at epoch 8\n",
            "Error:0.0003551360472056496 at epoch 9\n",
            "Error:0.000352587024103706 at epoch 10\n",
            "Error:0.000350163572897196 at epoch 11\n",
            "Error:0.00034784084069403937 at epoch 12\n",
            "Error:0.0003456132012712964 at epoch 13\n",
            "Error:0.000343476340201291 at epoch 14\n",
            "Error:0.0003414256573309894 at epoch 15\n",
            "Error:0.0003394564932538834 at epoch 16\n",
            "Error:0.0003375643411139782 at epoch 17\n",
            "Error:0.000335744936425044 at epoch 18\n",
            "Error:0.00033399428120901663 at epoch 19\n",
            "Error:0.000332308640435127 at epoch 20\n",
            "Error:0.00033068452822135384 at epoch 21\n",
            "Error:0.0003291186910087558 at epoch 22\n",
            "Error:0.00032760809052351117 at epoch 23\n",
            "Error:0.000326149887555038 at epoch 24\n",
            "Error:0.0003247414268725229 at epoch 25\n",
            "Error:0.00032338022333051105 at epoch 26\n",
            "Error:0.0003220639491146819 at epoch 27\n",
            "Error:0.00032079042204660263 at epoch 28\n",
            "Error:0.0003195575948596929 at epoch 29\n",
            "Error:0.00031836354536152433 at epoch 30\n",
            "Error:0.0003172064674036518 at epoch 31\n",
            "Error:0.0003160846625869162 at epoch 32\n",
            "Error:0.00031499653263677605 at epoch 33\n",
            "Error:0.00031394057238937246 at epoch 34\n",
            "Error:0.0003129153633345925 at epoch 35\n",
            "Error:0.0003119195676675075 at epoch 36\n",
            "Error:0.0003109519228040922 at epoch 37\n",
            "Error:0.0003100112363212781 at epoch 38\n",
            "Error:0.0003090963812850809 at epoch 39\n",
            "Error:0.00030820629193391096 at epoch 40\n",
            "Error:0.0003073399596871971 at epoch 41\n",
            "Error:0.00030649642945213197 at epoch 42\n",
            "Error:0.0003056747962038831 at epoch 43\n",
            "Error:0.0003048742018167559 at epoch 44\n",
            "Error:0.00030409383212586834 at epoch 45\n",
            "Error:0.0003033329142006592 at epoch 46\n",
            "Error:0.00030259071381324065 at epoch 47\n",
            "Error:0.000301866533086061 at epoch 48\n",
            "Error:0.00030115970830471247 at epoch 49\n",
            "Error:0.00030046960788292703 at epoch 50\n",
            "\n",
            "\n",
            "[0.39089338]\n"
          ]
        }
      ]
    },
    {
      "cell_type": "code",
      "source": [
        "b=np.array([[0.16308476 ,0.57923519 ,0.10509013 ,0.84817566, 0.89973497]\n",
        " ,[0.88206471, 0.33850809, 0.27557758, 0.66225708, 0.44814947]])\n",
        "a=np.array([[ 0.00017159,  0.00155403, -0.00070605, -0.00011337,  0.00014874],\n",
        " [ 0.00019405,  0.00175741, -0.00079846, -0.00012821,  0.00016821]])\n",
        "b=b+a*0.1\n",
        "print(b)"
      ],
      "metadata": {
        "colab": {
          "base_uri": "https://localhost:8080/"
        },
        "id": "LGLJER2PCUxE",
        "outputId": "a0eb6578-0280-4ce2-c8f6-e23da5a27548"
      },
      "execution_count": null,
      "outputs": [
        {
          "output_type": "stream",
          "name": "stdout",
          "text": [
            "[[0.16310192 0.57939059 0.10501953 0.84816432 0.89974984]\n",
            " [0.88208411 0.33868383 0.27549773 0.66224426 0.44816629]]\n"
          ]
        }
      ]
    },
    {
      "cell_type": "code",
      "source": [
        "b=np.array([[0.16308476 ,0.57923519 ,0.10509013 ,0.84817566, 0.89973497]\n",
        " ,[0.88206471, 0.33850809, 0.27557758, 0.66225708, 0.44814947]])\n",
        "a=np.array([[ 0.00017159,  0.00155403, -0.00070605, -0.00011337,  0.00014874],\n",
        " [ 0.00019405,  0.00175741, -0.00079846, -0.00012821,  0.00016821]])\n",
        "b+=a*0.1\n",
        "print(b)"
      ],
      "metadata": {
        "colab": {
          "base_uri": "https://localhost:8080/"
        },
        "id": "zn7mk7PQohkl",
        "outputId": "5eae07df-a08f-415a-c0dc-eec28382bf4d"
      },
      "execution_count": null,
      "outputs": [
        {
          "output_type": "stream",
          "name": "stdout",
          "text": [
            "[[0.16310192 0.57939059 0.10501953 0.84816432 0.89974984]\n",
            " [0.88208411 0.33868383 0.27549773 0.66224426 0.44816629]]\n"
          ]
        }
      ]
    }
  ]
}