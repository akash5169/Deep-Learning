{
  "nbformat": 4,
  "nbformat_minor": 0,
  "metadata": {
    "colab": {
      "name": "MusicClassificationWithNN.ipynb",
      "provenance": [],
      "mount_file_id": "1gzdrIpK3-Wn28SZUN2m1r9feQZUq3BJ0",
      "authorship_tag": "ABX9TyMLWtzzHkYsWr06FHfSTnYC",
      "include_colab_link": true
    },
    "kernelspec": {
      "name": "python3",
      "display_name": "Python 3"
    },
    "language_info": {
      "name": "python"
    }
  },
  "cells": [
    {
      "cell_type": "markdown",
      "metadata": {
        "id": "view-in-github",
        "colab_type": "text"
      },
      "source": [
        "<a href=\"https://colab.research.google.com/github/akash5169/Deep-Learning/blob/main/Audio-Classification/MusicClassificationWithNN.ipynb\" target=\"_parent\"><img src=\"https://colab.research.google.com/assets/colab-badge.svg\" alt=\"Open In Colab\"/></a>"
      ]
    },
    {
      "cell_type": "code",
      "source": [
        "import json\n",
        "import numpy as np\n",
        "from google.colab import drive\n",
        "from sklearn.model_selection import train_test_split\n",
        "import tensorflow.keras as keras"
      ],
      "metadata": {
        "id": "t3bXQZGYd-oj"
      },
      "execution_count": 6,
      "outputs": []
    },
    {
      "cell_type": "code",
      "source": [
        "drive.mount('/content/drive')\n",
        "DATASET_PATH=\"/content/drive/MyDrive/JSON_AUDIO_DATA/data.json\""
      ],
      "metadata": {
        "colab": {
          "base_uri": "https://localhost:8080/"
        },
        "id": "fLT0T906e9J6",
        "outputId": "1b47de98-9716-45cd-ef1a-325fd7ae3605"
      },
      "execution_count": 11,
      "outputs": [
        {
          "output_type": "stream",
          "name": "stdout",
          "text": [
            "Drive already mounted at /content/drive; to attempt to forcibly remount, call drive.mount(\"/content/drive\", force_remount=True).\n"
          ]
        }
      ]
    },
    {
      "cell_type": "code",
      "execution_count": 10,
      "metadata": {
        "id": "tBbkMU3ucJty"
      },
      "outputs": [],
      "source": [
        "def load_data(dataset_path):\n",
        "  with open(dataset_path,\"r\") as fp:\n",
        "    data=json.load(fp)\n",
        "  \n",
        "  #convert lists data to numpy arrays\n",
        "  inputs=np.array(data[\"mfcc\"])\n",
        "  targets=np.array(data[\"lables\"])\n",
        "\n",
        "  return inputs,targets"
      ]
    },
    {
      "cell_type": "code",
      "source": [
        "if __name__==\"__main__\":\n",
        "  #load data\n",
        "  inputs,targets=load_data(DATASET_PATH)\n",
        "\n",
        "  #split the data into train and test sets\n",
        "  inputs_train, inputs_test, targets_train, targets_test= train_test_split(inputs, targets, test_size=0.3)\n",
        "\n",
        "  #build the network architecture\n",
        "  model= keras.Sequential([\n",
        "      #input layer\n",
        "      keras.layers.Flatten(input_shape=(inputs.shape[1],inputs.shape[2])),\n",
        "\n",
        "      #1st hidden layer\n",
        "      keras.layers.Dense(512, activation=\"relu\"),\n",
        "\n",
        "      #2nd hidden layer\n",
        "      keras.layers.Dense(256, activation=\"relu\"),\n",
        "\n",
        "      #3rd hidden layer\n",
        "      keras.layers.Dense(64, activation=\"relu\"),\n",
        "\n",
        "      #output layer\n",
        "      keras.layers.Dense(10, activation=\"softmax\")\n",
        "  ])\n",
        "\n",
        "  #compile network\n",
        "  optimizer= keras.optimizers.Adam(learning_rate=0.0001)\n",
        "  model.compile(optimizer=optimizer,\n",
        "                loss=\"sparse_categorical_crossentropy\",\n",
        "                metrics=[\"accuracy\"])\n",
        "  \n",
        "  model.summary()\n",
        "\n",
        "  #train the network\n",
        "  model.fit(inputs_train, targets_train, \n",
        "            validation_data=(inputs_test,targets_test),\n",
        "            epochs=50,\n",
        "            batch_size=32)"
      ],
      "metadata": {
        "colab": {
          "base_uri": "https://localhost:8080/"
        },
        "id": "VcLKsoslemFn",
        "outputId": "c97e9e11-48f9-425d-e4d6-e36182911b0d"
      },
      "execution_count": 12,
      "outputs": [
        {
          "output_type": "stream",
          "name": "stdout",
          "text": [
            "Model: \"sequential_1\"\n",
            "_________________________________________________________________\n",
            " Layer (type)                Output Shape              Param #   \n",
            "=================================================================\n",
            " flatten_1 (Flatten)         (None, 1690)              0         \n",
            "                                                                 \n",
            " dense_4 (Dense)             (None, 512)               865792    \n",
            "                                                                 \n",
            " dense_5 (Dense)             (None, 256)               131328    \n",
            "                                                                 \n",
            " dense_6 (Dense)             (None, 64)                16448     \n",
            "                                                                 \n",
            " dense_7 (Dense)             (None, 10)                650       \n",
            "                                                                 \n",
            "=================================================================\n",
            "Total params: 1,014,218\n",
            "Trainable params: 1,014,218\n",
            "Non-trainable params: 0\n",
            "_________________________________________________________________\n",
            "Epoch 1/50\n",
            "219/219 [==============================] - 3s 12ms/step - loss: 5.7168 - accuracy: 0.2797 - val_loss: 2.1895 - val_accuracy: 0.3117\n",
            "Epoch 2/50\n",
            "219/219 [==============================] - 2s 11ms/step - loss: 1.9431 - accuracy: 0.3742 - val_loss: 1.9451 - val_accuracy: 0.3899\n",
            "Epoch 3/50\n",
            "219/219 [==============================] - 2s 11ms/step - loss: 1.7627 - accuracy: 0.4150 - val_loss: 1.9330 - val_accuracy: 0.3708\n",
            "Epoch 4/50\n",
            "219/219 [==============================] - 2s 11ms/step - loss: 1.6611 - accuracy: 0.4425 - val_loss: 1.9021 - val_accuracy: 0.3975\n",
            "Epoch 5/50\n",
            "219/219 [==============================] - 2s 11ms/step - loss: 1.5966 - accuracy: 0.4578 - val_loss: 1.9058 - val_accuracy: 0.4129\n",
            "Epoch 6/50\n",
            "219/219 [==============================] - 2s 11ms/step - loss: 1.5284 - accuracy: 0.4722 - val_loss: 1.8179 - val_accuracy: 0.4082\n",
            "Epoch 7/50\n",
            "219/219 [==============================] - 2s 11ms/step - loss: 1.4747 - accuracy: 0.4800 - val_loss: 1.7809 - val_accuracy: 0.4259\n",
            "Epoch 8/50\n",
            "219/219 [==============================] - 2s 11ms/step - loss: 1.3857 - accuracy: 0.5080 - val_loss: 1.7835 - val_accuracy: 0.4386\n",
            "Epoch 9/50\n",
            "219/219 [==============================] - 2s 11ms/step - loss: 1.3254 - accuracy: 0.5259 - val_loss: 1.9837 - val_accuracy: 0.4429\n",
            "Epoch 10/50\n",
            "219/219 [==============================] - 2s 11ms/step - loss: 1.2985 - accuracy: 0.5246 - val_loss: 1.7716 - val_accuracy: 0.4569\n",
            "Epoch 11/50\n",
            "219/219 [==============================] - 3s 12ms/step - loss: 1.2430 - accuracy: 0.5508 - val_loss: 1.8452 - val_accuracy: 0.4736\n",
            "Epoch 12/50\n",
            "219/219 [==============================] - 2s 11ms/step - loss: 1.1961 - accuracy: 0.5635 - val_loss: 1.8132 - val_accuracy: 0.4516\n",
            "Epoch 13/50\n",
            "219/219 [==============================] - 2s 10ms/step - loss: 1.1352 - accuracy: 0.5891 - val_loss: 1.8168 - val_accuracy: 0.4753\n",
            "Epoch 14/50\n",
            "219/219 [==============================] - 2s 11ms/step - loss: 1.0901 - accuracy: 0.6053 - val_loss: 1.8001 - val_accuracy: 0.4786\n",
            "Epoch 15/50\n",
            "219/219 [==============================] - 3s 11ms/step - loss: 1.0332 - accuracy: 0.6222 - val_loss: 1.7748 - val_accuracy: 0.4993\n",
            "Epoch 16/50\n",
            "219/219 [==============================] - 2s 11ms/step - loss: 0.9968 - accuracy: 0.6363 - val_loss: 1.6883 - val_accuracy: 0.4997\n",
            "Epoch 17/50\n",
            "219/219 [==============================] - 2s 11ms/step - loss: 0.9845 - accuracy: 0.6471 - val_loss: 1.7447 - val_accuracy: 0.5033\n",
            "Epoch 18/50\n",
            "219/219 [==============================] - 2s 11ms/step - loss: 0.8925 - accuracy: 0.6727 - val_loss: 1.7941 - val_accuracy: 0.5227\n",
            "Epoch 19/50\n",
            "219/219 [==============================] - 2s 11ms/step - loss: 0.8462 - accuracy: 0.6881 - val_loss: 1.7177 - val_accuracy: 0.5217\n",
            "Epoch 20/50\n",
            "219/219 [==============================] - 2s 11ms/step - loss: 0.8107 - accuracy: 0.7029 - val_loss: 1.7658 - val_accuracy: 0.5210\n",
            "Epoch 21/50\n",
            "219/219 [==============================] - 2s 11ms/step - loss: 0.7685 - accuracy: 0.7220 - val_loss: 1.7007 - val_accuracy: 0.5471\n",
            "Epoch 22/50\n",
            "219/219 [==============================] - 2s 11ms/step - loss: 0.6954 - accuracy: 0.7465 - val_loss: 1.8233 - val_accuracy: 0.5437\n",
            "Epoch 23/50\n",
            "219/219 [==============================] - 2s 11ms/step - loss: 0.7630 - accuracy: 0.7253 - val_loss: 1.7899 - val_accuracy: 0.5487\n",
            "Epoch 24/50\n",
            "219/219 [==============================] - 2s 11ms/step - loss: 0.6247 - accuracy: 0.7701 - val_loss: 1.7485 - val_accuracy: 0.5434\n",
            "Epoch 25/50\n",
            "219/219 [==============================] - 2s 11ms/step - loss: 0.6236 - accuracy: 0.7712 - val_loss: 1.8221 - val_accuracy: 0.5487\n",
            "Epoch 26/50\n",
            "219/219 [==============================] - 2s 11ms/step - loss: 0.5498 - accuracy: 0.7981 - val_loss: 1.8695 - val_accuracy: 0.5691\n",
            "Epoch 27/50\n",
            "219/219 [==============================] - 2s 11ms/step - loss: 0.5102 - accuracy: 0.8072 - val_loss: 1.7177 - val_accuracy: 0.5748\n",
            "Epoch 28/50\n",
            "219/219 [==============================] - 2s 11ms/step - loss: 0.5149 - accuracy: 0.8079 - val_loss: 1.8042 - val_accuracy: 0.5517\n",
            "Epoch 29/50\n",
            "219/219 [==============================] - 2s 11ms/step - loss: 0.4634 - accuracy: 0.8300 - val_loss: 1.7425 - val_accuracy: 0.5791\n",
            "Epoch 30/50\n",
            "219/219 [==============================] - 2s 11ms/step - loss: 0.4174 - accuracy: 0.8474 - val_loss: 1.8522 - val_accuracy: 0.5828\n",
            "Epoch 31/50\n",
            "219/219 [==============================] - 2s 11ms/step - loss: 0.4094 - accuracy: 0.8459 - val_loss: 1.8405 - val_accuracy: 0.5871\n",
            "Epoch 32/50\n",
            "219/219 [==============================] - 2s 11ms/step - loss: 0.3994 - accuracy: 0.8558 - val_loss: 2.0562 - val_accuracy: 0.5928\n",
            "Epoch 33/50\n",
            "219/219 [==============================] - 2s 11ms/step - loss: 0.4000 - accuracy: 0.8578 - val_loss: 2.1180 - val_accuracy: 0.5891\n",
            "Epoch 34/50\n",
            "219/219 [==============================] - 2s 11ms/step - loss: 0.3250 - accuracy: 0.8823 - val_loss: 1.9195 - val_accuracy: 0.5858\n",
            "Epoch 35/50\n",
            "219/219 [==============================] - 2s 11ms/step - loss: 0.2982 - accuracy: 0.8904 - val_loss: 1.8998 - val_accuracy: 0.5921\n",
            "Epoch 36/50\n",
            "219/219 [==============================] - 2s 11ms/step - loss: 0.2822 - accuracy: 0.8967 - val_loss: 1.8789 - val_accuracy: 0.5771\n",
            "Epoch 37/50\n",
            "219/219 [==============================] - 2s 11ms/step - loss: 0.2733 - accuracy: 0.9024 - val_loss: 1.9191 - val_accuracy: 0.5885\n",
            "Epoch 38/50\n",
            "219/219 [==============================] - 2s 11ms/step - loss: 0.2614 - accuracy: 0.9073 - val_loss: 2.0901 - val_accuracy: 0.5945\n",
            "Epoch 39/50\n",
            "219/219 [==============================] - 2s 11ms/step - loss: 0.2481 - accuracy: 0.9157 - val_loss: 2.1526 - val_accuracy: 0.5905\n",
            "Epoch 40/50\n",
            "219/219 [==============================] - 2s 11ms/step - loss: 0.2286 - accuracy: 0.9199 - val_loss: 2.1251 - val_accuracy: 0.6038\n",
            "Epoch 41/50\n",
            "219/219 [==============================] - 2s 11ms/step - loss: 0.2474 - accuracy: 0.9106 - val_loss: 2.3161 - val_accuracy: 0.5901\n",
            "Epoch 42/50\n",
            "219/219 [==============================] - 2s 11ms/step - loss: 0.1973 - accuracy: 0.9319 - val_loss: 2.1150 - val_accuracy: 0.6031\n",
            "Epoch 43/50\n",
            "219/219 [==============================] - 2s 11ms/step - loss: 0.1701 - accuracy: 0.9406 - val_loss: 2.1732 - val_accuracy: 0.6011\n",
            "Epoch 44/50\n",
            "219/219 [==============================] - 2s 11ms/step - loss: 0.2283 - accuracy: 0.9152 - val_loss: 2.2181 - val_accuracy: 0.5895\n",
            "Epoch 45/50\n",
            "219/219 [==============================] - 2s 11ms/step - loss: 0.2025 - accuracy: 0.9252 - val_loss: 2.1585 - val_accuracy: 0.5958\n",
            "Epoch 46/50\n",
            "219/219 [==============================] - 2s 11ms/step - loss: 0.1784 - accuracy: 0.9359 - val_loss: 2.1688 - val_accuracy: 0.6018\n",
            "Epoch 47/50\n",
            "219/219 [==============================] - 2s 11ms/step - loss: 0.1507 - accuracy: 0.9478 - val_loss: 2.2270 - val_accuracy: 0.5851\n",
            "Epoch 48/50\n",
            "219/219 [==============================] - 3s 12ms/step - loss: 0.1738 - accuracy: 0.9401 - val_loss: 2.3826 - val_accuracy: 0.5948\n",
            "Epoch 49/50\n",
            "219/219 [==============================] - 3s 12ms/step - loss: 0.1544 - accuracy: 0.9436 - val_loss: 2.2969 - val_accuracy: 0.6045\n",
            "Epoch 50/50\n",
            "219/219 [==============================] - 2s 11ms/step - loss: 0.1443 - accuracy: 0.9511 - val_loss: 2.4386 - val_accuracy: 0.5768\n"
          ]
        }
      ]
    },
    {
      "cell_type": "code",
      "source": [
        ""
      ],
      "metadata": {
        "id": "RekFJT2qw_6I"
      },
      "execution_count": null,
      "outputs": []
    }
  ]
}